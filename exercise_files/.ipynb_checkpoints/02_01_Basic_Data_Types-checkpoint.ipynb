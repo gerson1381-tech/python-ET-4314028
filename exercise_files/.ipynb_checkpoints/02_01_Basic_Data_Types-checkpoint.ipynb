{
  "cells": [
    {
      "cell_type": "markdown",
      "metadata": {
        "id": "view-in-github",
        "colab_type": "text"
      },
      "source": [
        "<a href=\"https://colab.research.google.com/github/gerson1381-tech/python-ET-4314028/blob/main/exercise_files/.ipynb_checkpoints/02_01_Basic_Data_Types-checkpoint.ipynb\" target=\"_parent\"><img src=\"https://colab.research.google.com/assets/colab-badge.svg\" alt=\"Open In Colab\"/></a>"
      ]
    },
    {
      "cell_type": "markdown",
      "id": "72e8177d",
      "metadata": {
        "id": "72e8177d"
      },
      "source": [
        "# Basic Data Types"
      ]
    },
    {
      "cell_type": "markdown",
      "id": "62f373f2",
      "metadata": {
        "id": "62f373f2"
      },
      "source": [
        "## Defining a Variable"
      ]
    },
    {
      "cell_type": "code",
      "execution_count": null,
      "id": "c625d1e8",
      "metadata": {
        "id": "c625d1e8"
      },
      "outputs": [],
      "source": [
        "x = 5"
      ]
    },
    {
      "cell_type": "code",
      "execution_count": null,
      "id": "e33dd9d1",
      "metadata": {
        "id": "e33dd9d1",
        "outputId": "cc677040-a02c-42d0-e3ac-f25b44b869ed"
      },
      "outputs": [
        {
          "name": "stdout",
          "output_type": "stream",
          "text": [
            "5\n"
          ]
        }
      ],
      "source": [
        "print(x)"
      ]
    },
    {
      "cell_type": "code",
      "execution_count": null,
      "id": "396bd3c1",
      "metadata": {
        "id": "396bd3c1",
        "outputId": "b9560efc-9b23-45dc-a40e-30844652d116"
      },
      "outputs": [
        {
          "data": {
            "text/plain": [
              "5"
            ]
          },
          "execution_count": 3,
          "metadata": {},
          "output_type": "execute_result"
        }
      ],
      "source": [
        "x"
      ]
    },
    {
      "cell_type": "code",
      "execution_count": null,
      "id": "e26b25dc",
      "metadata": {
        "id": "e26b25dc",
        "outputId": "0bfb6807-3df2-44a0-cde1-f49e720ed5d3"
      },
      "outputs": [
        {
          "ename": "SyntaxError",
          "evalue": "invalid decimal literal (1973045331.py, line 1)",
          "output_type": "error",
          "traceback": [
            "\u001b[0;36m  Input \u001b[0;32mIn [5]\u001b[0;36m\u001b[0m\n\u001b[0;31m    1x\u001b[0m\n\u001b[0m    ^\u001b[0m\n\u001b[0;31mSyntaxError\u001b[0m\u001b[0;31m:\u001b[0m invalid decimal literal\n"
          ]
        }
      ],
      "source": [
        "1x"
      ]
    },
    {
      "cell_type": "code",
      "execution_count": null,
      "id": "d045d01a",
      "metadata": {
        "id": "d045d01a"
      },
      "outputs": [],
      "source": [
        "name = 'Ryan'"
      ]
    },
    {
      "cell_type": "code",
      "execution_count": null,
      "id": "eac35943",
      "metadata": {
        "id": "eac35943",
        "outputId": "2001f670-ef78-4167-a551-33aa2895f5a5"
      },
      "outputs": [
        {
          "data": {
            "text/plain": [
              "str"
            ]
          },
          "execution_count": 7,
          "metadata": {},
          "output_type": "execute_result"
        }
      ],
      "source": [
        "type(name)"
      ]
    },
    {
      "cell_type": "code",
      "execution_count": null,
      "id": "1a93aa83",
      "metadata": {
        "id": "1a93aa83",
        "outputId": "a4d2bed2-ef60-4ba0-a00b-9c7b3edf5f25"
      },
      "outputs": [
        {
          "data": {
            "text/plain": [
              "int"
            ]
          },
          "execution_count": 8,
          "metadata": {},
          "output_type": "execute_result"
        }
      ],
      "source": [
        "type(x)"
      ]
    },
    {
      "cell_type": "markdown",
      "id": "8b7a8afe",
      "metadata": {
        "id": "8b7a8afe"
      },
      "source": [
        "## Numbers"
      ]
    },
    {
      "cell_type": "code",
      "execution_count": null,
      "id": "66b59611",
      "metadata": {
        "id": "66b59611",
        "outputId": "f3d5b764-bd36-46a1-a9eb-37217c6c4d05"
      },
      "outputs": [
        {
          "data": {
            "text/plain": [
              "float"
            ]
          },
          "execution_count": 9,
          "metadata": {},
          "output_type": "execute_result"
        }
      ],
      "source": [
        "type(1.5)"
      ]
    },
    {
      "cell_type": "code",
      "execution_count": null,
      "id": "260be4ae",
      "metadata": {
        "id": "260be4ae"
      },
      "outputs": [],
      "source": [
        "1.23456789"
      ]
    },
    {
      "cell_type": "code",
      "execution_count": null,
      "id": "b0c62fcc",
      "metadata": {
        "id": "b0c62fcc"
      },
      "outputs": [],
      "source": [
        "12345678.9"
      ]
    },
    {
      "cell_type": "code",
      "execution_count": null,
      "id": "b57e9f24",
      "metadata": {
        "id": "b57e9f24",
        "outputId": "bcea172d-8e0e-4992-80f3-c5d81fd995c1"
      },
      "outputs": [
        {
          "data": {
            "text/plain": [
              "complex"
            ]
          },
          "execution_count": 10,
          "metadata": {},
          "output_type": "execute_result"
        }
      ],
      "source": [
        "type(2j)"
      ]
    },
    {
      "cell_type": "code",
      "execution_count": null,
      "id": "70f204ce",
      "metadata": {
        "id": "70f204ce",
        "outputId": "f2dc44a6-c4a9-4810-cc8c-9273a1d9be22"
      },
      "outputs": [
        {
          "data": {
            "text/plain": [
              "(-1+0j)"
            ]
          },
          "execution_count": 11,
          "metadata": {},
          "output_type": "execute_result"
        }
      ],
      "source": [
        "1j * 1j"
      ]
    },
    {
      "cell_type": "markdown",
      "id": "d6b29b9e",
      "metadata": {
        "id": "d6b29b9e"
      },
      "source": [
        "## Strings"
      ]
    },
    {
      "cell_type": "code",
      "execution_count": null,
      "id": "4b72f826",
      "metadata": {
        "id": "4b72f826",
        "outputId": "86d98507-47f5-45cb-e547-13e2764d9c94"
      },
      "outputs": [
        {
          "data": {
            "text/plain": [
              "'String 1 String 2'"
            ]
          },
          "execution_count": 12,
          "metadata": {},
          "output_type": "execute_result"
        }
      ],
      "source": [
        "'String 1 ' + 'String 2'"
      ]
    },
    {
      "cell_type": "code",
      "execution_count": null,
      "id": "14c2ced2",
      "metadata": {
        "id": "14c2ced2",
        "outputId": "c58fef52-790b-4842-8b42-ee45de3ebce4"
      },
      "outputs": [
        {
          "data": {
            "text/plain": [
              "'11'"
            ]
          },
          "execution_count": 13,
          "metadata": {},
          "output_type": "execute_result"
        }
      ],
      "source": [
        "'1' + '1'"
      ]
    },
    {
      "cell_type": "code",
      "execution_count": null,
      "id": "1b327896",
      "metadata": {
        "id": "1b327896",
        "outputId": "43248f7c-3908-42d7-9ce6-9e752e7587f3"
      },
      "outputs": [
        {
          "ename": "TypeError",
          "evalue": "can only concatenate str (not \"int\") to str",
          "output_type": "error",
          "traceback": [
            "\u001b[0;31m---------------------------------------------------------------------------\u001b[0m",
            "\u001b[0;31mTypeError\u001b[0m                                 Traceback (most recent call last)",
            "Input \u001b[0;32mIn [14]\u001b[0m, in \u001b[0;36m<module>\u001b[0;34m\u001b[0m\n\u001b[0;32m----> 1\u001b[0m \u001b[38;5;124;43m'\u001b[39;49m\u001b[38;5;124;43m1\u001b[39;49m\u001b[38;5;124;43m'\u001b[39;49m\u001b[43m \u001b[49m\u001b[38;5;241;43m+\u001b[39;49m\u001b[43m \u001b[49m\u001b[38;5;241;43m1\u001b[39;49m\n",
            "\u001b[0;31mTypeError\u001b[0m: can only concatenate str (not \"int\") to str"
          ]
        }
      ],
      "source": [
        "'1' + 1"
      ]
    },
    {
      "cell_type": "markdown",
      "id": "9afbc149",
      "metadata": {
        "id": "9afbc149"
      },
      "source": [
        "## Booleans"
      ]
    },
    {
      "cell_type": "code",
      "execution_count": null,
      "id": "a3d9b9bc",
      "metadata": {
        "id": "a3d9b9bc",
        "outputId": "5078fed9-5fc8-482f-ec3a-31b8ee145f16"
      },
      "outputs": [
        {
          "data": {
            "text/plain": [
              "True"
            ]
          },
          "execution_count": 15,
          "metadata": {},
          "output_type": "execute_result"
        }
      ],
      "source": [
        "True"
      ]
    },
    {
      "cell_type": "code",
      "execution_count": null,
      "id": "a8379a41",
      "metadata": {
        "id": "a8379a41",
        "outputId": "6d33457f-b131-4778-943f-34c6abcb2ed9"
      },
      "outputs": [
        {
          "data": {
            "text/plain": [
              "False"
            ]
          },
          "execution_count": 16,
          "metadata": {},
          "output_type": "execute_result"
        }
      ],
      "source": [
        "False"
      ]
    },
    {
      "cell_type": "code",
      "execution_count": null,
      "id": "e3c34286",
      "metadata": {
        "id": "e3c34286"
      },
      "outputs": [],
      "source": [
        "true = True"
      ]
    },
    {
      "cell_type": "code",
      "execution_count": null,
      "id": "85d586ae",
      "metadata": {
        "id": "85d586ae",
        "outputId": "8ba7f6cb-2cc3-4c98-d2a3-38b206b35a20"
      },
      "outputs": [
        {
          "data": {
            "text/plain": [
              "True"
            ]
          },
          "execution_count": 19,
          "metadata": {},
          "output_type": "execute_result"
        }
      ],
      "source": [
        "1 == 1"
      ]
    },
    {
      "cell_type": "code",
      "execution_count": null,
      "id": "4992ca39",
      "metadata": {
        "id": "4992ca39",
        "outputId": "2253d478-1af0-4285-b8d2-1289bd094445"
      },
      "outputs": [
        {
          "data": {
            "text/plain": [
              "False"
            ]
          },
          "execution_count": 20,
          "metadata": {},
          "output_type": "execute_result"
        }
      ],
      "source": [
        "1 == 2"
      ]
    },
    {
      "cell_type": "code",
      "execution_count": null,
      "id": "bde64579",
      "metadata": {
        "id": "bde64579"
      },
      "outputs": [],
      "source": []
    }
  ],
  "metadata": {
    "kernelspec": {
      "display_name": "Python 3 (ipykernel)",
      "language": "python",
      "name": "python3"
    },
    "language_info": {
      "codemirror_mode": {
        "name": "ipython",
        "version": 3
      },
      "file_extension": ".py",
      "mimetype": "text/x-python",
      "name": "python",
      "nbconvert_exporter": "python",
      "pygments_lexer": "ipython3",
      "version": "3.10.4"
    },
    "colab": {
      "provenance": [],
      "include_colab_link": true
    }
  },
  "nbformat": 4,
  "nbformat_minor": 5
}